{
 "cells": [
  {
   "cell_type": "code",
   "execution_count": 1,
   "id": "f2cbfb58-5a05-4568-940d-6c9847570003",
   "metadata": {},
   "outputs": [],
   "source": [
    "def get_my_word():\n",
    "    k = str(\"\")\n",
    "    i = 0\n",
    "    m = True\n",
    "    http = urllib3.PoolManager()\n",
    "    response = http.request('GET', \"https://raw.githubusercontent.com/charlesreid1/five-letter-words/master/sgb-words.txt\")\n",
    "    data = response.data.decode('utf-8')\n",
    "    data = data.split(\"\\n\")#getting all the words in the file \n",
    "    sen = [\"Enter the word\",\"Enter the word correctly\",\"Enter valid word\"]\n",
    "    while(m):\n",
    "        k = str(input(sen[i]))\n",
    "        if len(k) != 5: #checking whether its 5 letter word \n",
    "            i=1\n",
    "        elif k not in data:#checking whether its valid word \n",
    "            i=2\n",
    "        else:\n",
    "            m = False# exiting while loop to return the input word\n",
    "    return k\n",
    "        "
   ]
  },
  {
   "cell_type": "code",
   "execution_count": 2,
   "id": "e1db271f-258e-47d2-b36d-bc1bded63c20",
   "metadata": {},
   "outputs": [],
   "source": [
    "import urllib3\n",
    "import random\n",
    "def get_word():\n",
    "    http = urllib3.PoolManager()\n",
    "    response = http.request('GET', \"https://raw.githubusercontent.com/charlesreid1/five-letter-words/master/sgb-words.txt\")\n",
    "    data = response.data.decode('utf-8')\n",
    "    data = data.split(\"\\n\")\n",
    "    nw = len(data)\n",
    "    n = random.randint(0,nw)#random iterator\n",
    "    tw = str(data[n])#random word from the word list\n",
    "    return tw\n",
    "\n"
   ]
  },
  {
   "cell_type": "code",
   "execution_count": null,
   "id": "34dc3df0-bcb0-4880-9dad-b9eb2b343f80",
   "metadata": {},
   "outputs": [],
   "source": []
  },
  {
   "cell_type": "code",
   "execution_count": 3,
   "id": "4c1077ff-3988-4bdb-b709-90ee5cccba6d",
   "metadata": {},
   "outputs": [],
   "source": [
    "def check_c(tw,mw):\n",
    "    if tw == mw: #check whether we found the word\n",
    "        print(\"you have found the letter\")\n",
    "        return True\n",
    "    "
   ]
  },
  {
   "cell_type": "code",
   "execution_count": 4,
   "id": "dfe20ed2-9739-41b7-9bd0-0ec818dc3827",
   "metadata": {},
   "outputs": [],
   "source": [
    "def check_l(tw,mw):#function to check letters in are found in resptive places\n",
    "    sw = str(\"\")\n",
    "    for (i, j) in zip(tw, mw):\n",
    "        #print(i,j)\n",
    "        if i == j:\n",
    "            sw = sw+i\n",
    "        else:\n",
    "            sw = sw+\"*\"\n",
    "    return sw\n"
   ]
  },
  {
   "cell_type": "code",
   "execution_count": 5,
   "id": "8aa0c16a-e009-44b3-9ee7-31418152dc56",
   "metadata": {},
   "outputs": [],
   "source": [
    "def check_r(tw,mw):#function to find randomnly found letters\n",
    "    letters = []\n",
    "    for i in tw:\n",
    "        for j in mw:\n",
    "            if i == j:\n",
    "                letters.append(i)# append them in list\n",
    "    letters = list(set(letters))\n",
    "    return letters"
   ]
  },
  {
   "cell_type": "code",
   "execution_count": 6,
   "id": "3d720b06-d247-4c27-bf50-25308c7b8ab5",
   "metadata": {},
   "outputs": [],
   "source": [
    "def check(tw,mw):\n",
    "    letters = []\n",
    "    if check_c(tw,mw):\n",
    "        return True,None,None# if found return and exit the function\n",
    "    sw = check_l(tw,mw)\n",
    "    letters = check_r(tw,mw)\n",
    "    return False,sw,letters#returning values"
   ]
  },
  {
   "cell_type": "code",
   "execution_count": null,
   "id": "0c4e1f54-870c-4781-9847-0935acada51f",
   "metadata": {},
   "outputs": [],
   "source": []
  },
  {
   "cell_type": "code",
   "execution_count": 7,
   "id": "083ca3ae-73e6-4dd7-b17d-737432712ddd",
   "metadata": {},
   "outputs": [
    {
     "name": "stdin",
     "output_type": "stream",
     "text": [
      "Enter the word share\n"
     ]
    },
    {
     "name": "stdout",
     "output_type": "stream",
     "text": [
      "share\n",
      "***** ['s', 'a']\n"
     ]
    },
    {
     "name": "stdin",
     "output_type": "stream",
     "text": [
      "Enter the word start\n"
     ]
    },
    {
     "name": "stdout",
     "output_type": "stream",
     "text": [
      "start\n",
      "***** ['s', 'a']\n"
     ]
    },
    {
     "name": "stdin",
     "output_type": "stream",
     "text": [
      "Enter the word caste\n"
     ]
    },
    {
     "name": "stdout",
     "output_type": "stream",
     "text": [
      "caste\n",
      "ca*** ['s', 'c', 'a']\n"
     ]
    },
    {
     "name": "stdin",
     "output_type": "stream",
     "text": [
      "Enter the word caves\n"
     ]
    },
    {
     "name": "stdout",
     "output_type": "stream",
     "text": [
      "caves\n",
      "ca**s ['s', 'c', 'a']\n"
     ]
    },
    {
     "name": "stdin",
     "output_type": "stream",
     "text": [
      "Enter the word calls\n"
     ]
    },
    {
     "name": "stdout",
     "output_type": "stream",
     "text": [
      "calls\n",
      "ca*ls ['l', 's', 'c', 'a']\n",
      "you failed\n",
      "chance 1\n",
      "0\n",
      "chance 2\n",
      "0\n",
      "chance 3\n",
      "0\n",
      "chance 4\n",
      "0\n",
      "chance 5\n",
      "0\n",
      "the word is :\n",
      "cauls\n"
     ]
    }
   ],
   "source": [
    "i=0\n",
    "k = False\n",
    "tw = get_word()\n",
    "#print(tw)\n",
    "while(not k and i<5):\n",
    "    mw = get_my_word()\n",
    "    print(mw)\n",
    "    k,sw,letters = check(tw,mw)\n",
    "    print(sw,letters)\n",
    "    i=i+1\n",
    "if k:\n",
    "    print(\"you have found the letter\")\n",
    "    for x in range(1,6):\n",
    "        print(\"chance\",x)\n",
    "        if x==i:\n",
    "            print(\"1\")\n",
    "        else:\n",
    "            print(\"0\")\n",
    "else:\n",
    "    print(\"you failed\")\n",
    "    for x in range(1,6):\n",
    "        print(\"chance\",x)\n",
    "        print(\"0\")\n",
    "print(\"the word is :\")\n",
    "print(tw)"
   ]
  },
  {
   "cell_type": "code",
   "execution_count": null,
   "id": "f87ecca8-603b-4331-98a7-867dad6c9677",
   "metadata": {},
   "outputs": [],
   "source": []
  }
 ],
 "metadata": {
  "kernelspec": {
   "display_name": "Python 3 (ipykernel)",
   "language": "python",
   "name": "python3"
  },
  "language_info": {
   "codemirror_mode": {
    "name": "ipython",
    "version": 3
   },
   "file_extension": ".py",
   "mimetype": "text/x-python",
   "name": "python",
   "nbconvert_exporter": "python",
   "pygments_lexer": "ipython3",
   "version": "3.10.4"
  }
 },
 "nbformat": 4,
 "nbformat_minor": 5
}
